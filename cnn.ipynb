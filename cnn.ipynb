{
  "cells": [
    {
      "cell_type": "markdown",
      "metadata": {
        "id": "kHsA7QkI8co6"
      },
      "source": [
        "Importing Libraries"
      ]
    },
    {
      "cell_type": "code",
      "execution_count": 1,
      "metadata": {
        "id": "yrbyQKPTrXLz"
      },
      "outputs": [],
      "source": [
        "import torch\n",
        "import torchvision\n",
        "import torchvision.transforms as transforms\n",
        "import torch.nn as nn\n",
        "import torch.nn.functional as F\n",
        "import torch.optim as optim\n",
        "from torch.utils.data import DataLoader"
      ]
    },
    {
      "cell_type": "markdown",
      "metadata": {
        "id": "f46eBgRu8iTb"
      },
      "source": [
        "  Loading Dataset"
      ]
    },
    {
      "cell_type": "code",
      "execution_count": 2,
      "metadata": {
        "colab": {
          "base_uri": "https://localhost:8080/"
        },
        "id": "3vqOxhdusbVQ",
        "outputId": "3cfc095a-5dd8-43ff-ad29-8820a5432753"
      },
      "outputs": [
        {
          "name": "stderr",
          "output_type": "stream",
          "text": [
            "100%|██████████| 170M/170M [00:13<00:00, 12.8MB/s]\n"
          ]
        }
      ],
      "source": [
        "# Define transformations for CIFAR-10 (Normalise and Augment)\n",
        "transform = transforms.Compose([\n",
        "    transforms.RandomHorizontalFlip(),  # Data Augmentation\n",
        "    transforms.RandomRotation(10),\n",
        "    transforms.ToTensor(),\n",
        "    transforms.Normalize((0.5, 0.5, 0.5), (0.5, 0.5, 0.5))  # Normalize to [-1,1]\n",
        "])\n",
        "\n",
        "# Load CIFAR-10 dataset\n",
        "trainset = torchvision.datasets.CIFAR10(root='./data', train=True, download=True, transform=transform)\n",
        "testset = torchvision.datasets.CIFAR10(root='./data', train=False, download=True, transform=transform)\n",
        "\n",
        "# DataLoader\n",
        "batch_size = 64\n",
        "trainloader = DataLoader(trainset, batch_size=batch_size, shuffle=True, num_workers=2)\n",
        "testloader = DataLoader(testset, batch_size=batch_size, shuffle=False, num_workers=2)"
      ]
    },
    {
      "cell_type": "markdown",
      "metadata": {
        "id": "jYOXTbKX8ouc"
      },
      "source": [
        "CNN Model"
      ]
    },
    {
      "cell_type": "code",
      "execution_count": 3,
      "metadata": {
        "id": "ejXrXQULtX3s"
      },
      "outputs": [],
      "source": [
        "# Define CNN model\n",
        "class CNN(nn.Module):\n",
        "  def __init__(self):\n",
        "    super(CNN, self).__init__()\n",
        "\n",
        "    self.conv1 = nn.Conv2d(3, 32, kernel_size=3, stride=1, padding=1)\n",
        "    self.conv2 = nn.Conv2d(32, 64, kernel_size=3, stride=1, padding=1)\n",
        "    self.conv3 = nn.Conv2d(64, 128, kernel_size=3, stride=1, padding=1)\n",
        "\n",
        "    self.pool = nn.MaxPool2d(2,2)\n",
        "    self.dropout = nn.Dropout(0.5)\n",
        "\n",
        "    self.fc1 = nn.Linear(128 * 4 * 4, 256)  # FC layer\n",
        "    self.fc2 = nn.Linear(256, 128)\n",
        "    self.fc3 = nn.Linear(128, 10)  # 10 output classes (CIFAR-10)\n",
        "\n",
        "  def forward(self, x):\n",
        "      x = self.pool(F.relu(self.conv1(x)))\n",
        "      x = self.pool(F.relu(self.conv2(x)))\n",
        "      x = self.pool(F.relu(self.conv3(x)))\n",
        "\n",
        "      x = x.view(-1, 128 * 4 * 4)  # Flatten\n",
        "      x = F.relu(self.fc1(x))\n",
        "      x = self.dropout(x)\n",
        "      x = F.relu(self.fc2(x))\n",
        "      x = self.fc3(x)  # No softmax as CrossEntropyLoss applies it\n",
        "\n",
        "      return x"
      ]
    },
    {
      "cell_type": "code",
      "execution_count": null,
      "metadata": {
        "id": "AryxZ0RSuu8P"
      },
      "outputs": [],
      "source": [
        "# Instantiate model\n",
        "model = CNN()\n",
        "\n",
        "# Define loss function and optimizer\n",
        "criterion = nn.CrossEntropyLoss()\n",
        "optimizer = optim.Adam(model.parameters(), lr=0.001)"
      ]
    },
    {
      "cell_type": "code",
      "execution_count": null,
      "metadata": {
        "id": "8QkKMhYmvTs7"
      },
      "outputs": [],
      "source": [
        "num_epochs = 10\n",
        "learning_rate = 0.001  # Lower LR for stable training\n",
        "momentum = 0.9  # momentum value\n",
        "\n",
        "# Instantiate the CIFAR-10 model\n",
        "network = CNN()\n",
        "\n",
        "# Use Adam optimizer\n",
        "optimizer = optim.Adam(network.parameters(), lr=learning_rate)\n",
        "scheduler = torch.optim.lr_scheduler.StepLR(optimizer, step_size=10, gamma=0.1)\n",
        "\n",
        "train_losses = []\n",
        "test_accuracies = []"
      ]
    },
    {
      "cell_type": "markdown",
      "metadata": {
        "id": "KZ0CU_1V8spP"
      },
      "source": [
        "Training the model"
      ]
    },
    {
      "cell_type": "code",
      "execution_count": null,
      "metadata": {
        "id": "B_L5oY_JD9ZF"
      },
      "outputs": [],
      "source": [
        "def train(epoch):\n",
        "    network.train()\n",
        "    running_loss = 0.0\n",
        "\n",
        "    for batch_idx, (data, labels) in enumerate(trainloader):\n",
        "        data, labels = data, labels\n",
        "\n",
        "        optimizer.zero_grad()\n",
        "        output = network(data)\n",
        "        loss = F.cross_entropy(output, labels)\n",
        "\n",
        "        loss.backward()\n",
        "        optimizer.step()\n",
        "\n",
        "        running_loss += loss.item()\n",
        "\n",
        "        if batch_idx % 100 == 0:\n",
        "            print(f'Train Epoch: {epoch} [{batch_idx * len(data)}/{len(trainloader.dataset)} '\n",
        "                  f'({100. * batch_idx / len(trainloader):.0f}%)]\\tLoss: {loss.item():.6f}')\n",
        "\n",
        "    avg_loss = running_loss / len(trainloader)\n",
        "\n",
        "    if epoch <= num_epochs:\n",
        "      train_losses.append(avg_loss)  # Store only if within epoch range\n",
        "\n",
        "    print(f\"Epoch {epoch} finished with average loss: {avg_loss:.4f}\")\n",
        "\n",
        "    scheduler.step()\n",
        "\n",
        "# Test function to calculate accuracy after each epoch\n",
        "def test():\n",
        "    correct = 0\n",
        "    total = 0\n",
        "    network.eval()\n",
        "    with torch.no_grad():\n",
        "        for data, labels in testloader:\n",
        "            data, labels = data, labels\n",
        "            outputs = network(data)\n",
        "            _, predicted = torch.max(outputs, 1)\n",
        "            total += labels.size(0)\n",
        "            correct += (predicted == labels).sum().item()\n",
        "\n",
        "    accuracy = 100 * correct / total\n",
        "    test_accuracies.append(accuracy)  # Store accuracy\n",
        "    print(f\"Test Accuracy: {accuracy:.2f}%\\n\")"
      ]
    },
    {
      "cell_type": "code",
      "execution_count": 7,
      "metadata": {
        "colab": {
          "base_uri": "https://localhost:8080/"
        },
        "id": "YzFY-00wEEPi",
        "outputId": "991ba396-6819-4880-81b5-d922747af067"
      },
      "outputs": [
        {
          "name": "stdout",
          "output_type": "stream",
          "text": [
            "Train Epoch: 1 [0/50000 (0%)]\tLoss: 2.299712\n",
            "Train Epoch: 1 [6400/50000 (13%)]\tLoss: 1.950332\n",
            "Train Epoch: 1 [12800/50000 (26%)]\tLoss: 1.758822\n",
            "Train Epoch: 1 [19200/50000 (38%)]\tLoss: 1.631614\n",
            "Train Epoch: 1 [25600/50000 (51%)]\tLoss: 1.648703\n",
            "Train Epoch: 1 [32000/50000 (64%)]\tLoss: 1.639935\n",
            "Train Epoch: 1 [38400/50000 (77%)]\tLoss: 1.558487\n",
            "Train Epoch: 1 [44800/50000 (90%)]\tLoss: 1.286930\n",
            "Epoch 1 finished with average loss: 1.6332\n",
            "Test Accuracy: 52.31%\n",
            "\n",
            "Train Epoch: 2 [0/50000 (0%)]\tLoss: 1.363390\n",
            "Train Epoch: 2 [6400/50000 (13%)]\tLoss: 1.352007\n",
            "Train Epoch: 2 [12800/50000 (26%)]\tLoss: 1.224735\n",
            "Train Epoch: 2 [19200/50000 (38%)]\tLoss: 1.133821\n",
            "Train Epoch: 2 [25600/50000 (51%)]\tLoss: 1.289296\n",
            "Train Epoch: 2 [32000/50000 (64%)]\tLoss: 1.275434\n",
            "Train Epoch: 2 [38400/50000 (77%)]\tLoss: 1.283985\n",
            "Train Epoch: 2 [44800/50000 (90%)]\tLoss: 1.039931\n",
            "Epoch 2 finished with average loss: 1.2551\n",
            "Test Accuracy: 61.20%\n",
            "\n",
            "Train Epoch: 3 [0/50000 (0%)]\tLoss: 1.029498\n",
            "Train Epoch: 3 [6400/50000 (13%)]\tLoss: 1.086388\n",
            "Train Epoch: 3 [12800/50000 (26%)]\tLoss: 1.239365\n",
            "Train Epoch: 3 [19200/50000 (38%)]\tLoss: 1.110600\n",
            "Train Epoch: 3 [25600/50000 (51%)]\tLoss: 1.040552\n",
            "Train Epoch: 3 [32000/50000 (64%)]\tLoss: 1.215927\n",
            "Train Epoch: 3 [38400/50000 (77%)]\tLoss: 1.111525\n",
            "Train Epoch: 3 [44800/50000 (90%)]\tLoss: 1.203382\n",
            "Epoch 3 finished with average loss: 1.0979\n",
            "Test Accuracy: 66.02%\n",
            "\n",
            "Train Epoch: 4 [0/50000 (0%)]\tLoss: 0.961359\n",
            "Train Epoch: 4 [6400/50000 (13%)]\tLoss: 1.018201\n",
            "Train Epoch: 4 [12800/50000 (26%)]\tLoss: 0.912387\n",
            "Train Epoch: 4 [19200/50000 (38%)]\tLoss: 0.968418\n",
            "Train Epoch: 4 [25600/50000 (51%)]\tLoss: 0.944123\n",
            "Train Epoch: 4 [32000/50000 (64%)]\tLoss: 0.846616\n",
            "Train Epoch: 4 [38400/50000 (77%)]\tLoss: 0.943407\n",
            "Train Epoch: 4 [44800/50000 (90%)]\tLoss: 1.156364\n",
            "Epoch 4 finished with average loss: 0.9970\n",
            "Test Accuracy: 67.98%\n",
            "\n",
            "Train Epoch: 5 [0/50000 (0%)]\tLoss: 1.048040\n",
            "Train Epoch: 5 [6400/50000 (13%)]\tLoss: 1.037441\n",
            "Train Epoch: 5 [12800/50000 (26%)]\tLoss: 0.779031\n",
            "Train Epoch: 5 [19200/50000 (38%)]\tLoss: 0.847275\n",
            "Train Epoch: 5 [25600/50000 (51%)]\tLoss: 0.953345\n",
            "Train Epoch: 5 [32000/50000 (64%)]\tLoss: 0.728133\n",
            "Train Epoch: 5 [38400/50000 (77%)]\tLoss: 0.890949\n",
            "Train Epoch: 5 [44800/50000 (90%)]\tLoss: 0.609940\n",
            "Epoch 5 finished with average loss: 0.9197\n",
            "Test Accuracy: 71.55%\n",
            "\n",
            "Train Epoch: 6 [0/50000 (0%)]\tLoss: 1.028994\n",
            "Train Epoch: 6 [6400/50000 (13%)]\tLoss: 1.101181\n",
            "Train Epoch: 6 [12800/50000 (26%)]\tLoss: 0.869740\n",
            "Train Epoch: 6 [19200/50000 (38%)]\tLoss: 1.105669\n",
            "Train Epoch: 6 [25600/50000 (51%)]\tLoss: 0.799462\n",
            "Train Epoch: 6 [32000/50000 (64%)]\tLoss: 0.825073\n",
            "Train Epoch: 6 [38400/50000 (77%)]\tLoss: 1.022274\n",
            "Train Epoch: 6 [44800/50000 (90%)]\tLoss: 0.829674\n",
            "Epoch 6 finished with average loss: 0.8609\n",
            "Test Accuracy: 71.29%\n",
            "\n",
            "Train Epoch: 7 [0/50000 (0%)]\tLoss: 0.912525\n",
            "Train Epoch: 7 [6400/50000 (13%)]\tLoss: 0.875871\n",
            "Train Epoch: 7 [12800/50000 (26%)]\tLoss: 1.014095\n",
            "Train Epoch: 7 [19200/50000 (38%)]\tLoss: 0.849819\n",
            "Train Epoch: 7 [25600/50000 (51%)]\tLoss: 0.951841\n",
            "Train Epoch: 7 [32000/50000 (64%)]\tLoss: 0.963361\n",
            "Train Epoch: 7 [38400/50000 (77%)]\tLoss: 0.772076\n",
            "Train Epoch: 7 [44800/50000 (90%)]\tLoss: 0.923087\n",
            "Epoch 7 finished with average loss: 0.8200\n",
            "Test Accuracy: 72.41%\n",
            "\n",
            "Train Epoch: 8 [0/50000 (0%)]\tLoss: 0.626012\n",
            "Train Epoch: 8 [6400/50000 (13%)]\tLoss: 1.050547\n",
            "Train Epoch: 8 [12800/50000 (26%)]\tLoss: 0.879368\n",
            "Train Epoch: 8 [19200/50000 (38%)]\tLoss: 0.764554\n",
            "Train Epoch: 8 [25600/50000 (51%)]\tLoss: 0.806914\n",
            "Train Epoch: 8 [32000/50000 (64%)]\tLoss: 1.147310\n",
            "Train Epoch: 8 [38400/50000 (77%)]\tLoss: 0.539547\n",
            "Train Epoch: 8 [44800/50000 (90%)]\tLoss: 0.812653\n",
            "Epoch 8 finished with average loss: 0.7849\n",
            "Test Accuracy: 73.05%\n",
            "\n",
            "Train Epoch: 9 [0/50000 (0%)]\tLoss: 0.791237\n",
            "Train Epoch: 9 [6400/50000 (13%)]\tLoss: 0.949076\n",
            "Train Epoch: 9 [12800/50000 (26%)]\tLoss: 0.680975\n",
            "Train Epoch: 9 [19200/50000 (38%)]\tLoss: 0.730763\n",
            "Train Epoch: 9 [25600/50000 (51%)]\tLoss: 0.525211\n",
            "Train Epoch: 9 [32000/50000 (64%)]\tLoss: 0.550853\n",
            "Train Epoch: 9 [38400/50000 (77%)]\tLoss: 0.811537\n",
            "Train Epoch: 9 [44800/50000 (90%)]\tLoss: 0.706687\n",
            "Epoch 9 finished with average loss: 0.7562\n",
            "Test Accuracy: 74.69%\n",
            "\n",
            "Train Epoch: 10 [0/50000 (0%)]\tLoss: 0.602253\n",
            "Train Epoch: 10 [6400/50000 (13%)]\tLoss: 0.715761\n",
            "Train Epoch: 10 [12800/50000 (26%)]\tLoss: 0.725031\n",
            "Train Epoch: 10 [19200/50000 (38%)]\tLoss: 0.784325\n",
            "Train Epoch: 10 [25600/50000 (51%)]\tLoss: 0.715719\n",
            "Train Epoch: 10 [32000/50000 (64%)]\tLoss: 0.962485\n",
            "Train Epoch: 10 [38400/50000 (77%)]\tLoss: 0.668485\n",
            "Train Epoch: 10 [44800/50000 (90%)]\tLoss: 0.790978\n",
            "Epoch 10 finished with average loss: 0.7299\n",
            "Test Accuracy: 74.19%\n",
            "\n",
            "Training complete!\n"
          ]
        }
      ],
      "source": [
        "# Train and evaluate\n",
        "for epoch in range(1, num_epochs + 1):\n",
        "    train(epoch)\n",
        "    test()\n",
        "\n",
        "print(\"Training complete!\")"
      ]
    },
    {
      "cell_type": "markdown",
      "metadata": {
        "id": "ytTINAzt8zLw"
      },
      "source": [
        "Analysis of accuracy"
      ]
    },
    {
      "cell_type": "code",
      "execution_count": 8,
      "metadata": {
        "colab": {
          "base_uri": "https://localhost:8080/",
          "height": 487
        },
        "id": "35ZqhCwMJno9",
        "outputId": "d63ccf3c-1ffe-440c-b9a7-10756e8816d2"
      },
      "outputs": [
        {
          "data": {
            "image/png": "[encoded data removed]",
            "text/plain": [
              "<Figure size 1000x500 with 1 Axes>"
            ]
          },
          "metadata": {},
          "output_type": "display_data"
        }
      ],
      "source": [
        "import matplotlib.pyplot as plt\n",
        "\n",
        "# Plot Loss Graph\n",
        "plt.figure(figsize=(10, 5))\n",
        "plt.plot(range(1, num_epochs + 1), train_losses, marker='o', linestyle='-', label=\"Training Loss\")\n",
        "plt.xlabel(\"Epochs\")\n",
        "plt.ylabel(\"Loss\")\n",
        "plt.title(\"Training Loss Over Epochs\")\n",
        "plt.legend()\n",
        "plt.show()\n"
      ]
    },
    {
      "cell_type": "code",
      "execution_count": 9,
      "metadata": {
        "colab": {
          "base_uri": "https://localhost:8080/",
          "height": 487
        },
        "id": "UFXEh72xJujI",
        "outputId": "7cdd2fee-8542-40ca-e14f-a8ae3e8a2990"
      },
      "outputs": [
        {
          "data": {
            "image/png": "[encoded data removed]",
            "text/plain": [
              "<Figure size 1000x500 with 1 Axes>"
            ]
          },
          "metadata": {},
          "output_type": "display_data"
        }
      ],
      "source": [
        "# Plot Accuracy Graph\n",
        "plt.figure(figsize=(10, 5))\n",
        "plt.plot(range(1, num_epochs + 1), test_accuracies, marker='s', linestyle='-', color='red', label=\"Test Accuracy\")\n",
        "plt.xlabel(\"Epochs\")\n",
        "plt.ylabel(\"Accuracy (%)\")\n",
        "plt.title(\"Test Accuracy Over Epochs\")\n",
        "plt.legend()\n",
        "plt.show()"
      ]
    }
  ],
  "metadata": {
    "accelerator": "GPU",
    "colab": {
      "gpuType": "T4",
      "provenance": []
    },
    "kernelspec": {
      "display_name": "Python 3",
      "name": "python3"
    },
    "language_info": {
      "name": "python"
    }
  },
  "nbformat": 4,
  "nbformat_minor": 0
}
